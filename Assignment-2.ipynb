{
 "cells": [
  {
   "cell_type": "markdown",
   "metadata": {},
   "source": [
    "1. What is indentation error? Why indentation is important? Give one simple example?"
   ]
  },
  {
   "cell_type": "markdown",
   "metadata": {},
   "source": [
    "After if statement we should give space so that pythan can read the lines properly.If we will miss to give space or tab after if statement program will throw indentation error.\n",
    "\n",
    "example :\n",
    "\n",
    "raining = True\n",
    "\n",
    "if raining: \n",
    "print(\"Lets do work from home\")\n",
    "else:\n",
    "    print(\"Lets go to office\")\n",
    " \n",
    "output :\n",
    "File \"<ipython-input-6-a554f40c389a>\", line 4\n",
    "    print(\"Lets do work from home\") # This statemen exectuted\n",
    "        ^\n",
    "IndentationError: expected an indented block"
   ]
  },
  {
   "cell_type": "markdown",
   "metadata": {},
   "source": [
    "2. Correct the following code and write the comment where you made the correction?\n",
    "\n",
    "  ```python\n",
    "  class_started = bool(input(\"Hey friend, is class started?: [0-False/1-True]\"))\n",
    "\n",
    "  if class_started:\n",
    "      print(\"Since class started...\")\n",
    "      print(\"Lets concentrate\")\n",
    "  else:\n",
    "      print(\"Since class is not started...\")\n",
    "      print(\"let's revise\")  "
   ]
  },
  {
   "cell_type": "code",
   "execution_count": 7,
   "metadata": {},
   "outputs": [
    {
     "name": "stdout",
     "output_type": "stream",
     "text": [
      "Hey friend, is class started?: [0-False/1-True]1\n",
      "Since class started...\n",
      "Lets concentrate\n"
     ]
    }
   ],
   "source": [
    "  class_started = bool(input(\"Hey friend, is class started?: [0-False/1-True]\"))\n",
    "\n",
    "  if class_started:\n",
    "      print(\"Since class started...\")\n",
    "      print(\"Lets concentrate\")\n",
    "  else:\n",
    "      print(\"Since class is not started...\")\n",
    "      print(\"let's revise\")  "
   ]
  },
  {
   "cell_type": "markdown",
   "metadata": {},
   "source": [
    "3. Use if else condition to verify that dataype of `input()` method in python is always string."
   ]
  },
  {
   "cell_type": "code",
   "execution_count": 5,
   "metadata": {},
   "outputs": [
    {
     "name": "stdout",
     "output_type": "stream",
     "text": [
      "Please eneter your name : 123\n",
      "abc\n"
     ]
    }
   ],
   "source": [
    "input_Val = input(\"Please eneter your name : \")\n",
    "\n",
    "if type(input_Val)==str :\n",
    "    print(\"abc\")\n",
    "else :\n",
    "    print(\"xyz\")\n"
   ]
  },
  {
   "cell_type": "code",
   "execution_count": 10,
   "metadata": {},
   "outputs": [
    {
     "name": "stdout",
     "output_type": "stream",
     "text": [
      "Enter value1 : 100\n",
      "Enter value2 : 20\n",
      "Enter value3 : 10\n",
      "value1 is the largest value.\n"
     ]
    }
   ],
   "source": [
    "a = int(input(\"Enter value1 : \"))\n",
    "b = int(input(\"Enter value2 : \"))\n",
    "c = int(input(\"Enter value3 : \"))\n",
    "\n",
    "if (a>b>c) :\n",
    "    print(\"value1 is the largest value.\")\n",
    "elif (b>a>c) :\n",
    "    print(\"value2 is the largest value\")\n",
    "else :\n",
    "    print(\"value3 is the largest value\")"
   ]
  },
  {
   "cell_type": "code",
   "execution_count": 11,
   "metadata": {},
   "outputs": [
    {
     "name": "stdout",
     "output_type": "stream",
     "text": [
      "False\n"
     ]
    }
   ],
   "source": [
    "a = 6\n",
    "b = 10\n",
    "print( not ( not a == 10 or not b == 10) )"
   ]
  },
  {
   "cell_type": "code",
   "execution_count": 12,
   "metadata": {},
   "outputs": [
    {
     "name": "stdout",
     "output_type": "stream",
     "text": [
      "False\n"
     ]
    }
   ],
   "source": [
    "  A = 5.0\n",
    "  B = 10/2\n",
    "  print(A is B)"
   ]
  },
  {
   "cell_type": "code",
   "execution_count": 13,
   "metadata": {},
   "outputs": [
    {
     "name": "stdout",
     "output_type": "stream",
     "text": [
      "False\n"
     ]
    }
   ],
   "source": [
    "  A = 5.0\n",
    "  B = int(10/2)\n",
    "  print(A is B)"
   ]
  },
  {
   "cell_type": "code",
   "execution_count": 14,
   "metadata": {},
   "outputs": [
    {
     "name": "stdout",
     "output_type": "stream",
     "text": [
      "False\n"
     ]
    }
   ],
   "source": [
    "  A = 5.0\n",
    "  B = float(10/2)\n",
    "  print(A is B)"
   ]
  },
  {
   "cell_type": "code",
   "execution_count": 15,
   "metadata": {},
   "outputs": [
    {
     "name": "stdout",
     "output_type": "stream",
     "text": [
      "integer division: 25/5=5\n"
     ]
    }
   ],
   "source": [
    "var_a = 5\n",
    "var_b = 25\n",
    "integer_division = var_b // var_a\n",
    "print(f\"integer division: {var_b}/{var_a}={integer_division}\")"
   ]
  },
  {
   "cell_type": "code",
   "execution_count": 16,
   "metadata": {},
   "outputs": [
    {
     "name": "stdout",
     "output_type": "stream",
     "text": [
      "integer division: 25/3=8\n"
     ]
    }
   ],
   "source": [
    "var_a = 3\n",
    "var_b = 25\n",
    "integer_division = var_b // var_a\n",
    "print(f\"integer division: {var_b}/{var_a}={integer_division}\")"
   ]
  },
  {
   "cell_type": "code",
   "execution_count": 17,
   "metadata": {},
   "outputs": [
    {
     "name": "stdout",
     "output_type": "stream",
     "text": [
      "remainder: 25/5 is 0\n"
     ]
    }
   ],
   "source": [
    "var_a = 5\n",
    "var_b = 25\n",
    "remainder = var_b % var_a\n",
    "print(f\"remainder: {var_b}/{var_a} is {remainder}\")"
   ]
  },
  {
   "cell_type": "code",
   "execution_count": 18,
   "metadata": {},
   "outputs": [
    {
     "name": "stdout",
     "output_type": "stream",
     "text": [
      "remainder: 25/3 is 1\n"
     ]
    }
   ],
   "source": [
    "var_a = 3\n",
    "var_b = 25\n",
    "remainder = var_b % var_a\n",
    "print(f\"remainder: {var_b}/{var_a} is {remainder}\")"
   ]
  },
  {
   "cell_type": "code",
   "execution_count": null,
   "metadata": {},
   "outputs": [],
   "source": []
  }
 ],
 "metadata": {
  "kernelspec": {
   "display_name": "Python 3",
   "language": "python",
   "name": "python3"
  },
  "language_info": {
   "codemirror_mode": {
    "name": "ipython",
    "version": 3
   },
   "file_extension": ".py",
   "mimetype": "text/x-python",
   "name": "python",
   "nbconvert_exporter": "python",
   "pygments_lexer": "ipython3",
   "version": "3.7.6"
  }
 },
 "nbformat": 4,
 "nbformat_minor": 4
}
