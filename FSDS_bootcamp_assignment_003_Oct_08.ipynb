{
 "cells": [
  {
   "cell_type": "markdown",
   "metadata": {
    "id": "cyOfbWCdOjEr"
   },
   "source": [
    "# ASSIGNMENTS - Compulsory\n",
    "## Send it before 0000 hrs IST or 12 AM Wednesday\n",
    "\n",
    "## NOTE: Evaluation will be done before next class.\n",
    "\n",
    "## HOW TO SUBMIT: -\n",
    "Download this notebook, Solve it and upload in the google form given in the mail."
   ]
  },
  {
   "cell_type": "markdown",
   "metadata": {
    "id": "GT4IytkJMNa-"
   },
   "source": [
    "## Python String Manipulation\n",
    "\n",
    "1. Count the number of times `iNeuron` appears in the string.\n",
    "```python\n",
    "text = \"Welcome to iNeuron, You are a part of FSDS Bootcamp 2 in iNeuron. I hope you are enjoying the course by iNeuron\"\n",
    "```\n",
    "2. Check if position `5` to `11` ends with the phrase `iNeuron.` in the string \n",
    "```python\n",
    "txt = \"Hello, welcome to FSDS 2.0 at iNeuron.\"\n",
    "```\n",
    "3. Write a program that takes your full name as input and displays the abbreviations of the first and middle names except the last name which is displayed as it is. For example, if your name is Sunny Bhaveen Chandra, then the output should be S.B.Chandra.\n",
    "\n",
    "4. Join all items in a list into a string, using a hash(`#`) character as separator:\n",
    "```python\n",
    "LIST = [\"My\", \"name\", \"is\", \"Rishav\", \"Dash\"]\n",
    "```\n",
    "5. Write example for the following string manipulation function,\n",
    "\n",
    "  ```\n",
    "  - isdecimal()\n",
    "  - islower()\n",
    "  - isupper()\n",
    "  - isalpha()\n",
    "  - isnumeric()\n",
    "\n",
    "  ```\n",
    "6. Indian PAN card format follows the following formats - \n",
    "    - `AYEPC7894X`\n",
    "    - `ABCDE9999Y`\n",
    "  Take user input for PAN_CARD and validate as per the above example.\n"
   ]
  },
  {
   "cell_type": "code",
   "execution_count": 8,
   "metadata": {},
   "outputs": [
    {
     "name": "stdout",
     "output_type": "stream",
     "text": [
      "3\n"
     ]
    }
   ],
   "source": [
    "\"\"\"1.Count the number of times iNeuron appears in the string.\n",
    " text = \"Welcome to iNeuron, You are a part of FSDS Bootcamp 2 in iNeuron. I hope you are enjoying the course by iNeuron \"\"\"\n",
    "\n",
    "text = \"Welcome to iNeuron, You are a part of FSDS Bootcamp 2 in iNeuron. I hope you are enjoying the course by iNeuron\"\n",
    "\n",
    "count=text.count(\"iNeuron\")\n",
    "print(count)\n",
    "\n"
   ]
  },
  {
   "cell_type": "code",
   "execution_count": 15,
   "metadata": {},
   "outputs": [
    {
     "name": "stdout",
     "output_type": "stream",
     "text": [
      "Mismatched\n"
     ]
    }
   ],
   "source": [
    "\"\"\"Check if position 5 to 11 ends with the phrase iNeuron. in the string\n",
    "\n",
    "txt = \"Hello, welcome to FSDS 2.0 at iNeuron.\"\"\"\n",
    "\n",
    "txt = \"Hello, welcome to FSDS 2.0 at iNeuron.\"\n",
    "if txt[5:11] == \"iNeuron\" :\n",
    "   print(\"Value Matched\")\n",
    "else :\n",
    "   print(\"Mismatched\")"
   ]
  },
  {
   "cell_type": "raw",
   "metadata": {},
   "source": [
    "\"\"\"Write a program that takes your full name as input and displays the abbreviations of the first and middle names except the last name which is displayed as it is. For example, if your name is Sunny Bhaveen Chandra, then the output should be S.B.Chandra.\"\"\"\n",
    "\n",
    "name = input(\"Please enter your name :\")\n",
    "f_name,m_name,l_name = name.split(\" \")\n",
    "\n",
    "print(f\"\"\"\"First Name : {f_name}\n",
    "        Middle Name : {m_name}\n",
    "        Last Name : {l_name}\"\"\")\n"
   ]
  },
  {
   "cell_type": "code",
   "execution_count": 3,
   "metadata": {},
   "outputs": [
    {
     "name": "stdout",
     "output_type": "stream",
     "text": [
      "Please enter your name :prasanta kumar meher\n",
      "P.K.Meher\n"
     ]
    }
   ],
   "source": [
    "\"\"\"Write a program that takes your full name as input and displays the abbreviations of the first and middle names except the last name which is displayed as it is. For example, if your name is Sunny Bhaveen Chandra, then the output should be S.B.Chandra.\"\"\"\n",
    "\n",
    "name = input(\"Please enter your name :\")\n",
    "f_name,m_name,l_name = name.split(\" \")\n",
    "\n",
    "name = f_name[:1].upper()+ \".\" + m_name[:1].upper() + \".\" + l_name.capitalize()\n",
    "\n",
    "print(f\"\"\"{name}\"\"\")\n"
   ]
  },
  {
   "cell_type": "code",
   "execution_count": 16,
   "metadata": {},
   "outputs": [
    {
     "name": "stdout",
     "output_type": "stream",
     "text": [
      "My#name#is#Rishav#Dash\n"
     ]
    }
   ],
   "source": [
    "\"\"\" Join all items in a list into a string, using a hash(#) character as separator:\n",
    "\n",
    "LIST = [\"My\", \"name\", \"is\", \"Rishav\", \"Dash\"]\n",
    "\n",
    "\"\"\"\n",
    "LIST = [\"My\", \"name\", \"is\", \"Rishav\", \"Dash\"]\n",
    "\n",
    "str1 = \"#\"\n",
    "name=str1.join(LIST)\n",
    "print(name)"
   ]
  },
  {
   "cell_type": "code",
   "execution_count": 17,
   "metadata": {},
   "outputs": [
    {
     "data": {
      "text/plain": [
       "'Write example for the following string manipulation function,\\n\\n- isdecimal()\\n- islower()\\n- isupper()\\n- isalpha()\\n- isnumeric()'"
      ]
     },
     "execution_count": 17,
     "metadata": {},
     "output_type": "execute_result"
    }
   ],
   "source": [
    "\"\"\"Write example for the following string manipulation function,\n",
    "\n",
    "- isdecimal()\n",
    "- islower()\n",
    "- isupper()\n",
    "- isalpha()\n",
    "- isnumeric()\"\"\"\n"
   ]
  },
  {
   "cell_type": "code",
   "execution_count": 27,
   "metadata": {},
   "outputs": [
    {
     "name": "stdout",
     "output_type": "stream",
     "text": [
      "True\n",
      "False\n",
      "True\n",
      "False\n",
      "False\n",
      "True\n",
      "False\n",
      "False\n",
      "True\n",
      "True\n",
      "False\n",
      "False\n"
     ]
    }
   ],
   "source": [
    "val1 = \"12345\"\n",
    "val2 = \"12mi467\"\n",
    "print(val1.isdecimal())\n",
    "print(val2.isdecimal())\n",
    "\n",
    "val3 =\"mini\"\n",
    "val4 =\"Mini\"\n",
    "print(val3.islower())\n",
    "print(val4.islower())\n",
    "\n",
    "val5=\"Sasmita Meher\"\n",
    "val6=\"SASMITA MEHER\"\n",
    "\n",
    "print(val5.isupper())\n",
    "print(val6.isupper())\n",
    "\n",
    "val7 = \"7890\"\n",
    "val8 = \"12mi467\"\n",
    "val9 = \"mini\"\n",
    "\n",
    "print(val7.isalpha())\n",
    "print(val8.isalpha())\n",
    "print(val9.isalpha())\n",
    "\n",
    "\n",
    "print(val7.isnumeric())\n",
    "print(val8.isnumeric())\n",
    "print(val9.isnumeric())"
   ]
  },
  {
   "cell_type": "code",
   "execution_count": 3,
   "metadata": {},
   "outputs": [
    {
     "name": "stdout",
     "output_type": "stream",
     "text": [
      "Please enter your PAN Card Number : BYDPM3735J\n",
      "This is a valid PAN Number\n"
     ]
    }
   ],
   "source": [
    "\"\"\"Indian PAN card format follows the following formats -\n",
    "\n",
    "AYEPC7894X\n",
    "ABCDE9999Y Take user input for PAN_CARD and validate as per the above example.\"\"\"\n",
    "\n",
    "Pan_card = input(\"Please enter your PAN Card Number : \")\n",
    "\n",
    "if len(Pan_card)==10 :\n",
    "   if (Pan_card[0:5].isalpha() and Pan_card[0:5].isupper())  and Pan_card[5:9].isnumeric() and (Pan_card[9].isalpha() and Pan_card[9].isupper()) :\n",
    "      print(\"This is a valid PAN Number\")\n",
    "   else :\n",
    "      print(\"This is not a valid PAN Number\")\n",
    "else:\n",
    "    print(\"This is not a valid PAN Number\")"
   ]
  },
  {
   "cell_type": "code",
   "execution_count": null,
   "metadata": {},
   "outputs": [],
   "source": []
  },
  {
   "cell_type": "code",
   "execution_count": null,
   "metadata": {},
   "outputs": [],
   "source": []
  }
 ],
 "metadata": {
  "colab": {
   "collapsed_sections": [],
   "provenance": []
  },
  "kernelspec": {
   "display_name": "Python 3",
   "language": "python",
   "name": "python3"
  },
  "language_info": {
   "codemirror_mode": {
    "name": "ipython",
    "version": 3
   },
   "file_extension": ".py",
   "mimetype": "text/x-python",
   "name": "python",
   "nbconvert_exporter": "python",
   "pygments_lexer": "ipython3",
   "version": "3.7.6"
  }
 },
 "nbformat": 4,
 "nbformat_minor": 1
}
