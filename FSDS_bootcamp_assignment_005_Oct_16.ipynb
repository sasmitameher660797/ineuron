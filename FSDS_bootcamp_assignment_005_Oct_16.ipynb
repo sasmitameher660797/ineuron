{
 "cells": [
  {
   "cell_type": "markdown",
   "metadata": {
    "id": "dkGbTD94s6CD"
   },
   "source": [
    "# ASSIGNMENTS \n",
    "## Send it before 0000 hrs IST or 12 AM Friday\n",
    "\n",
    "## NOTE: Evaluation will be done before next class.\n",
    "\n",
    "## HOW TO SUBMIT: -\n",
    "Download this notebook, Solve it and upload in the google form given in the mail."
   ]
  },
  {
   "cell_type": "markdown",
   "metadata": {
    "id": "n3FuI-mutNl6"
   },
   "source": [
    "# List, Tuple and Sets"
   ]
  },
  {
   "cell_type": "markdown",
   "metadata": {
    "id": "hZcGNSR2y9zW"
   },
   "source": [
    "#### 1. On amazon website we have the following available items - \n",
    "\n",
    "```python\n",
    "amazon_website = [(\"watch\", 5000), (\"phone\", 10000), (\"laptop\", 50000), (\"shirt\", 1000)]\n",
    "```\n",
    "Take the user input N no. of times and find out the total cost to be paid?\n",
    "\n",
    "OR\n",
    "\n",
    "You can ask the user quntity or the count of item?\n",
    "\n",
    "if the item is not present in the amazon website then print that item as out of stock and do add it total\n",
    "\n",
    "\n",
    "HINT: while, for loop.. indexing"
   ]
  },
  {
   "cell_type": "code",
   "execution_count": 56,
   "metadata": {},
   "outputs": [
    {
     "name": "stdout",
     "output_type": "stream",
     "text": [
      "Item present in the store : [('watch', 5000), ('phone', 10000), ('laptop', 50000), ('shirt', 1000)]\n",
      "Please enter no of items you want to purchase(1 to 4) : 2\n",
      "Enter the item name : watch\n",
      "Enter the product quantity : 3\n",
      "Enter the item name : laptop\n",
      "Enter the product quantity : 3\n",
      "[['watch', 3], ['laptop', 3]]\n",
      "cart after adding watch: 15000\n",
      "cart after adding laptop: 165000\n",
      "Total payable amount: 165000\n"
     ]
    }
   ],
   "source": [
    "amazon_website = [(\"watch\", 5000), (\"phone\", 10000), (\"laptop\", 50000), (\"shirt\", 1000)]\n",
    "\n",
    "list_of_item_to_purchase = list()\n",
    "total_cost=0\n",
    "\n",
    "print(f\"Item present in the store : {amazon_website}\")\n",
    "\n",
    "N = int(input(\"Please enter no of items you want to purchase(1 to 4) : \"))\n",
    "\n",
    "for i in range(N):\n",
    "    product_name= input(\"Enter the item name : \")\n",
    "    product_name = product_name.lower()\n",
    "    product_quantity = int(input(\"Enter the product quantity : \"))\n",
    "    \n",
    "    list_of_item_to_purchase = list_of_item_to_purchase + [[product_name,product_quantity]]\n",
    "\n",
    "print(list_of_item_to_purchase)\n",
    "\n",
    "for item in list_of_item_to_purchase:\n",
    "    for product in amazon_website:\n",
    "        if item[0]==product[0]:\n",
    "            total_cost = total_cost + (product[1]*item[1])\n",
    "            print(f\"cart after adding {item[0]}: {total_cost}\")\n",
    "       \n",
    "\n",
    "print(f\"Total payable amount: {total_cost}\")\n"
   ]
  },
  {
   "cell_type": "markdown",
   "metadata": {
    "id": "FQrKC2gzzsUm"
   },
   "source": [
    "#### 2. What will be the output of the following code snippet?\n",
    "\n",
    "```\n",
    "arr = [1, 2, 3, 4, 5, 6]\n",
    "for i in range(1, 6):\n",
    "    arr[i - 1] = arr[i]\n",
    "for i in range(0, 6): \n",
    "    print(arr[i], end = \" \")\n",
    "```"
   ]
  },
  {
   "cell_type": "code",
   "execution_count": 22,
   "metadata": {},
   "outputs": [
    {
     "name": "stdout",
     "output_type": "stream",
     "text": [
      "2 3 4 5 6 6 "
     ]
    }
   ],
   "source": [
    "arr = [1, 2, 3, 4, 5, 6]\n",
    "for i in range(1, 6):\n",
    "    arr[i - 1] = arr[i]\n",
    "for i in range(0, 6): \n",
    "    print(arr[i], end = \" \")"
   ]
  },
  {
   "cell_type": "markdown",
   "metadata": {
    "id": "nL_DZJFS0ZZF"
   },
   "source": [
    "#### 3. Write a Python program to find the repeated items of a tuple."
   ]
  },
  {
   "cell_type": "code",
   "execution_count": 24,
   "metadata": {},
   "outputs": [
    {
     "name": "stdout",
     "output_type": "stream",
     "text": [
      "1\n",
      "3\n",
      "32\n",
      "1\n",
      "1\n",
      "32\n",
      "3\n"
     ]
    }
   ],
   "source": [
    "tup=(1,3,4,32,1,1,31,32,12,21,2,3)  \n",
    "for i in tup:\n",
    "    if tup.count(i) > 1:\n",
    "        print(i)"
   ]
  },
  {
   "cell_type": "markdown",
   "metadata": {
    "id": "ne8WpLZZ1GSm"
   },
   "source": [
    "### 4. Replace last value of tuples in a list with 500. Try using list comprehension\n",
    "\n",
    "Example -: \n",
    "```\n",
    "Input -:\n",
    "\n",
    "[(10, 20, 40), (40, 50, 60), (70, 80, 90)]\n",
    "\n",
    "Output -:\n",
    "[(10, 20, 500), (40, 50, 500), (70, 80, 500)]\n",
    "\n",
    "\n",
    "```\n"
   ]
  },
  {
   "cell_type": "code",
   "execution_count": 16,
   "metadata": {
    "id": "YpvH9Di21z-O"
   },
   "outputs": [
    {
     "name": "stdout",
     "output_type": "stream",
     "text": [
      "[(10, 20, 500), (40, 50, 500), (70, 80, 500)]\n"
     ]
    }
   ],
   "source": [
    "A = [(10, 20, 40), (40, 50, 60), (70, 80, 90)]\n",
    "\n",
    "B =list()\n",
    "\n",
    "for i in A :\n",
    "    i = list(i)\n",
    "    i[2] = 500\n",
    "    i= tuple(i)\n",
    "    B.append(i)\n",
    "    \n",
    "print(B)\n",
    "    \n",
    "    "
   ]
  }
 ],
 "metadata": {
  "colab": {
   "collapsed_sections": [],
   "provenance": []
  },
  "kernelspec": {
   "display_name": "Python 3",
   "language": "python",
   "name": "python3"
  },
  "language_info": {
   "codemirror_mode": {
    "name": "ipython",
    "version": 3
   },
   "file_extension": ".py",
   "mimetype": "text/x-python",
   "name": "python",
   "nbconvert_exporter": "python",
   "pygments_lexer": "ipython3",
   "version": "3.7.6"
  }
 },
 "nbformat": 4,
 "nbformat_minor": 1
}
