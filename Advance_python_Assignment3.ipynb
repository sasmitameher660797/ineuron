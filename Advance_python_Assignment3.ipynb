{
 "cells": [
  {
   "cell_type": "code",
   "execution_count": null,
   "id": "740edfa1",
   "metadata": {},
   "outputs": [],
   "source": [
    "1. What is the concept of an abstract superclass?"
   ]
  },
  {
   "cell_type": "markdown",
   "id": "99a0e08d",
   "metadata": {},
   "source": [
    "An abstract class is a class, but not one you can create objects from directly. Its purpose is to define how other classes should look like, i.e. what methods and properties they are expected to have.\n",
    "\n",
    "The methods and properties defined (but not implemented) in an abstract class are called abstract methods and abstract properties. All abstract methods and properties need to be implemented in a child class in order to be able to create objects from it.\n",
    "\n",
    "from abc import (\n",
    "  ABC,\n",
    "  abstractmethod,\n",
    ")\n",
    "class BasicPokemon(ABC):\n",
    "  def __init__(self, name):\n",
    "    self.name = name\n",
    "    self._level = 1\n",
    "  @abstractmethod\n",
    "  def main_attack(self):\n",
    "    ..."
   ]
  },
  {
   "cell_type": "code",
   "execution_count": null,
   "id": "c56de90e",
   "metadata": {},
   "outputs": [],
   "source": [
    "2. What happens when a class statement's top level contains a basic assignment statement?"
   ]
  },
  {
   "cell_type": "markdown",
   "id": "61e34015",
   "metadata": {},
   "source": [
    "When a class statement's top level contains a basic assignment statement, it defines a class-level variable or attribute. This means that the assignment statement creates a variable that is shared among all instances (objects) of the class."
   ]
  },
  {
   "cell_type": "code",
   "execution_count": null,
   "id": "b763a1fb",
   "metadata": {},
   "outputs": [],
   "source": [
    "3. Why does a class need to manually call a superclass's __init__ method?"
   ]
  },
  {
   "cell_type": "markdown",
   "id": "b44eb307",
   "metadata": {},
   "source": [
    "\n",
    "In Python, when defining a class hierarchy with inheritance, each subclass has the option to override the __init__ method of its superclass. If the subclass defines its own __init__ method without explicitly calling the superclass's __init__ method, the superclass's initialization logic will not be executed automatically.\n",
    "\n",
    "However, there are cases where it is desirable to include the initialization logic of the superclass in the subclass's __init__ method. This is typically done to ensure that the initialization steps defined in the superclass are performed before any additional initialization steps specific to the subclass.\n",
    "\n",
    "To achieve this, the subclass can manually call the superclass's __init__ method using the super() function. The super() function provides a way to access the superclass and call its methods, including __init__.\n",
    "\n",
    "By calling super().__init__(...), the subclass ensures that the superclass's __init__ method is executed first, allowing it to initialize any attributes or perform any necessary setup. The subclass can then add its own additional initialization logic after the super().__init__ call, if needed."
   ]
  },
  {
   "cell_type": "code",
   "execution_count": null,
   "id": "3323285b",
   "metadata": {},
   "outputs": [],
   "source": [
    "4. How can you augment, instead of completely replacing, an inherited method?"
   ]
  },
  {
   "cell_type": "markdown",
   "id": "2f368fe3",
   "metadata": {},
   "source": [
    "augment, or extend, an inherited method without completely replacing it, can follow these steps:\n",
    "\n",
    "Define the subclass that inherits from the superclass.\n",
    "Override the method in the subclass by defining a method with the same name.\n",
    "Within the overridden method in the subclass, call the superclass's version of the method using the super() function.\n",
    "Add any additional functionality or modifications to the method in the subclass."
   ]
  },
  {
   "cell_type": "code",
   "execution_count": null,
   "id": "5728315c",
   "metadata": {},
   "outputs": [],
   "source": [
    "5. How is the local scope of a class different from that of a function?"
   ]
  },
  {
   "cell_type": "markdown",
   "id": "2aa1c83f",
   "metadata": {},
   "source": [
    "The local scope of a class and a function in Python have some differences:\n",
    "\n",
    "1. Class Scope: In Python, the class scope is created when defining a class and remains in effect throughout the class definition. All methods and attributes defined within the class have access to this class scope. Within the class scope, you can define variables, methods, and attributes that are accessible by all instances of the class.\n",
    "\n",
    "2. Function Scope: In Python, the function scope is created when a function is called and exists only for the duration of that function's execution. Variables defined within a function are accessible only within that function and are destroyed once the function completes its execution. Each time the function is called, a new function scope is created.\n",
    "\n",
    "3. Accessibility: Variables defined in the class scope, known as class attributes, are accessible by all instances of the class as well as within the class's methods. They can be accessed using the `self` keyword within the class's methods or using the class name outside the class. On the other hand, variables defined in the function scope, known as local variables, are accessible only within the function and are not accessible outside the function or by other functions.\n",
    "\n",
    "4. Lifetime: Class attributes have a longer lifetime compared to local variables. They are created when the class is defined and persist as long as the class is in memory. Local variables, on the other hand, are created and destroyed each time the function is called.\n",
    "\n",
    "5. Initialization: Class attributes can be initialized with a default value when defining the class, and these values will be shared among all instances of the class. Local variables within a function are typically initialized within the function itself and can have different values each time the function is called.\n",
    "\n",
    "It's important to note that the class scope and function scope are separate and distinct. Variables defined in one scope are not accessible in the other scope unless explicitly passed as arguments or accessed through instances of the class."
   ]
  },
  {
   "cell_type": "code",
   "execution_count": null,
   "id": "9baa4cdf",
   "metadata": {},
   "outputs": [],
   "source": []
  }
 ],
 "metadata": {
  "kernelspec": {
   "display_name": "Python 3 (ipykernel)",
   "language": "python",
   "name": "python3"
  },
  "language_info": {
   "codemirror_mode": {
    "name": "ipython",
    "version": 3
   },
   "file_extension": ".py",
   "mimetype": "text/x-python",
   "name": "python",
   "nbconvert_exporter": "python",
   "pygments_lexer": "ipython3",
   "version": "3.10.9"
  }
 },
 "nbformat": 4,
 "nbformat_minor": 5
}
