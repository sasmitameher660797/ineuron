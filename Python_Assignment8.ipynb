{
 "cells": [
  {
   "cell_type": "code",
   "execution_count": null,
   "id": "0a75da42",
   "metadata": {},
   "outputs": [],
   "source": [
    "1. Write a Python Program to Add Two Matrices?"
   ]
  },
  {
   "cell_type": "code",
   "execution_count": 2,
   "id": "637b517c",
   "metadata": {},
   "outputs": [
    {
     "name": "stdout",
     "output_type": "stream",
     "text": [
      "[[10 11 10]\n",
      " [10 10 10]\n",
      " [10 10 10]]\n"
     ]
    }
   ],
   "source": [
    "import numpy as np\n",
    "  \n",
    "X = [[1,3,3],\n",
    "    [4 ,5,6],\n",
    "    [7 ,8,9]]\n",
    "  \n",
    "Y = [[9,8,7],\n",
    "    [6,5,4],\n",
    "    [3,2,1]]\n",
    " \n",
    "result = np.array(X) + np.array(Y)\n",
    " \n",
    "print(result)"
   ]
  },
  {
   "cell_type": "code",
   "execution_count": 11,
   "id": "e284feda",
   "metadata": {},
   "outputs": [
    {
     "name": "stdout",
     "output_type": "stream",
     "text": [
      "Enter the number of rows for matrix1:2\n",
      "Enter the number of columns for matrix1:2\n",
      "Enter the entries in a single line (separated by space): \n",
      "1 2 3 4\n",
      "[[1 2]\n",
      " [3 4]]\n",
      "Enter the number of rows for matrix2:2\n",
      "Enter the number of columns for matrix2:2\n",
      "Enter the entries in a single line (separated by space): \n",
      "5 6 7 8\n",
      "[[5 6]\n",
      " [7 8]]\n",
      "Sum of 2 matrix is : \n",
      "[[ 6  8]\n",
      " [10 12]]\n"
     ]
    }
   ],
   "source": [
    "import numpy as np\n",
    "\n",
    "R1 = int(input(\"Enter the number of rows for matrix1:\"))\n",
    "C1 = int(input(\"Enter the number of columns for matrix1:\"))\n",
    "\n",
    "print(\"Enter the entries in a single line (separated by space): \")\n",
    "\n",
    "entries = list(map(int, input().split()))\n",
    "\n",
    "matrix1 = np.array(entries).reshape(R1, C1)\n",
    "print(matrix1)\n",
    "\n",
    "R2 = int(input(\"Enter the number of rows for matrix2:\"))\n",
    "C2 = int(input(\"Enter the number of columns for matrix2:\"))\n",
    "\n",
    "print(\"Enter the entries in a single line (separated by space): \")\n",
    "\n",
    "entries = list(map(int, input().split()))\n",
    "\n",
    "matrix2 = np.array(entries).reshape(R2, C2)\n",
    "print(matrix2)\n",
    "\n",
    "result = np.array(matrix1) + np.array(matrix2)\n",
    " \n",
    "print(\"Sum of 2 matrix is : \")\n",
    "print(result)\n"
   ]
  },
  {
   "cell_type": "code",
   "execution_count": null,
   "id": "583dce0e",
   "metadata": {},
   "outputs": [],
   "source": [
    "2. Write a Python Program to Multiply Two Matrices?"
   ]
  },
  {
   "cell_type": "code",
   "execution_count": 3,
   "id": "f82b661b",
   "metadata": {},
   "outputs": [
    {
     "name": "stdout",
     "output_type": "stream",
     "text": [
      "[[ 9 24 21]\n",
      " [24 25 24]\n",
      " [21 16  9]]\n"
     ]
    }
   ],
   "source": [
    "import numpy as np\n",
    "  \n",
    "X = [[1,3,3],\n",
    "    [4 ,5,6],\n",
    "    [7 ,8,9]]\n",
    "  \n",
    "Y = [[9,8,7],\n",
    "    [6,5,4],\n",
    "    [3,2,1]]\n",
    " \n",
    "result = np.array(X) * np.array(Y)\n",
    " \n",
    "print(result)"
   ]
  },
  {
   "cell_type": "code",
   "execution_count": 13,
   "id": "c0b69ad1",
   "metadata": {},
   "outputs": [
    {
     "name": "stdout",
     "output_type": "stream",
     "text": [
      "Enter the number of rows for matrix1:2\n",
      "Enter the number of columns for matrix1:2\n",
      "Enter the entries in a single line (separated by space): \n",
      "1 2 3 4\n",
      "[[1 2]\n",
      " [3 4]]\n",
      "Enter the number of rows for matrix2:2\n",
      "Enter the number of columns for matrix2:2\n",
      "Enter the entries in a single line (separated by space): \n",
      "5 6 7 8\n",
      "[[5 6]\n",
      " [7 8]]\n",
      "Mulitiplication of 2 matrix is : \n",
      "[[ 5 12]\n",
      " [21 32]]\n"
     ]
    }
   ],
   "source": [
    "import numpy as np\n",
    "\n",
    "R1 = int(input(\"Enter the number of rows for matrix1:\"))\n",
    "C1 = int(input(\"Enter the number of columns for matrix1:\"))\n",
    "\n",
    "print(\"Enter the entries in a single line (separated by space): \")\n",
    "\n",
    "entries = list(map(int, input().split()))\n",
    "\n",
    "matrix1 = np.array(entries).reshape(R1, C1)\n",
    "print(matrix1)\n",
    "\n",
    "R2 = int(input(\"Enter the number of rows for matrix2:\"))\n",
    "C2 = int(input(\"Enter the number of columns for matrix2:\"))\n",
    "\n",
    "print(\"Enter the entries in a single line (separated by space): \")\n",
    "\n",
    "entries = list(map(int, input().split()))\n",
    "\n",
    "matrix2 = np.array(entries).reshape(R2, C2)\n",
    "print(matrix2)\n",
    "\n",
    "result = np.array(matrix1) * np.array(matrix2)\n",
    " \n",
    "print(\"Mulitiplication of 2 matrix is : \")\n",
    "print(result)"
   ]
  },
  {
   "cell_type": "code",
   "execution_count": null,
   "id": "7b34f9bf",
   "metadata": {},
   "outputs": [],
   "source": [
    "3. Write a Python Program to Transpose a Matrix?"
   ]
  },
  {
   "cell_type": "code",
   "execution_count": 14,
   "id": "b22c00d0",
   "metadata": {},
   "outputs": [
    {
     "name": "stdout",
     "output_type": "stream",
     "text": [
      "Enter the number of rows for matrix:2\n",
      "Enter the number of columns for matrix:2\n",
      "Enter the entries in a single line (separated by space): \n",
      "1 2 3 4\n",
      "[[1 2]\n",
      " [3 4]]\n",
      "Transpose of matrix is : \n",
      "[[1 3]\n",
      " [2 4]]\n"
     ]
    }
   ],
   "source": [
    "import numpy as np\n",
    "\n",
    "R1 = int(input(\"Enter the number of rows for matrix:\"))\n",
    "C1 = int(input(\"Enter the number of columns for matrix:\"))\n",
    "\n",
    "print(\"Enter the entries in a single line (separated by space): \")\n",
    "\n",
    "entries = list(map(int, input().split()))\n",
    "\n",
    "matrix1 = np.array(entries).reshape(R1, C1)\n",
    "print(matrix1)\n",
    "\n",
    "result =matrix1.transpose()\n",
    " \n",
    "print(\"Transpose of matrix is : \")\n",
    "print(result)\n"
   ]
  },
  {
   "cell_type": "code",
   "execution_count": null,
   "id": "3b396822",
   "metadata": {},
   "outputs": [],
   "source": [
    "4. Write a Python Program to Sort Words in Alphabetic Order?"
   ]
  },
  {
   "cell_type": "code",
   "execution_count": 5,
   "id": "813b383d",
   "metadata": {},
   "outputs": [
    {
     "name": "stdout",
     "output_type": "stream",
     "text": [
      "Enter a string: Hello this Is an Example With cased letters\n",
      "an\n",
      "cased\n",
      "example\n",
      "hello\n",
      "is\n",
      "letters\n",
      "this\n",
      "with\n"
     ]
    }
   ],
   "source": [
    "my_str = input(\"Enter a string: \")  \n",
    "my_str=my_str.lower()\n",
    "words = my_str.split()  \n",
    "words.sort()  \n",
    "for word in words:  \n",
    "   print(word)  "
   ]
  },
  {
   "cell_type": "code",
   "execution_count": null,
   "id": "64fd5dd3",
   "metadata": {},
   "outputs": [],
   "source": [
    "5. Write a Python Program to Remove Punctuation From a String?"
   ]
  },
  {
   "cell_type": "code",
   "execution_count": 6,
   "id": "d9b9b948",
   "metadata": {},
   "outputs": [
    {
     "name": "stdout",
     "output_type": "stream",
     "text": [
      "Enter a string: Hello, welcome to my blog! :\n",
      "Hello welcome to my blog \n"
     ]
    }
   ],
   "source": [
    "import re\n",
    "my_str = input(\"Enter a string: \")  \n",
    "new_string = re.sub(r'[^\\w\\s]', '', my_str)\n",
    "print(new_string)"
   ]
  },
  {
   "cell_type": "code",
   "execution_count": 10,
   "id": "739b84c0",
   "metadata": {},
   "outputs": [
    {
     "name": "stdout",
     "output_type": "stream",
     "text": [
      "Enter a string: Hello, welcome to my blog! :\n",
      "The original string is : Hello, welcome to my blog! :\n",
      "The string after punctuation filter : Hello welcome to my blog \n"
     ]
    }
   ],
   "source": [
    "\n",
    "import string\n",
    "\n",
    "my_str = input(\"Enter a string: \")  \n",
    "print(\"The original string is : \" + my_str)\n",
    "\n",
    "for i in string.punctuation:\n",
    "    my_str=my_str.replace(i, '')\n",
    "    \n",
    "print(\"The string after punctuation filter : \" + my_str)"
   ]
  },
  {
   "cell_type": "code",
   "execution_count": null,
   "id": "815aa50b",
   "metadata": {},
   "outputs": [],
   "source": []
  }
 ],
 "metadata": {
  "kernelspec": {
   "display_name": "Python 3 (ipykernel)",
   "language": "python",
   "name": "python3"
  },
  "language_info": {
   "codemirror_mode": {
    "name": "ipython",
    "version": 3
   },
   "file_extension": ".py",
   "mimetype": "text/x-python",
   "name": "python",
   "nbconvert_exporter": "python",
   "pygments_lexer": "ipython3",
   "version": "3.10.9"
  }
 },
 "nbformat": 4,
 "nbformat_minor": 5
}
