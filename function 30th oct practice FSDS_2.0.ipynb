{
 "cells": [
  {
   "cell_type": "code",
   "execution_count": null,
   "metadata": {},
   "outputs": [],
   "source": [
    "#1. write a function which will try to find out len of a string without using an inbuilt len function "
   ]
  },
  {
   "cell_type": "code",
   "execution_count": 1,
   "metadata": {},
   "outputs": [
    {
     "data": {
      "text/plain": [
       "4"
      ]
     },
     "execution_count": 1,
     "metadata": {},
     "output_type": "execute_result"
    }
   ],
   "source": [
    "len(\"sudh\")"
   ]
  },
  {
   "cell_type": "code",
   "execution_count": 11,
   "metadata": {},
   "outputs": [],
   "source": [
    "def test(s):\n",
    "    \"\"\"this is a prog which will help to find a lenght of string\"\"\"\n",
    "    count = 0 \n",
    "    for i in s:\n",
    "        #if type(i) == str :\n",
    "            count = count + 1\n",
    "    return count"
   ]
  },
  {
   "cell_type": "code",
   "execution_count": 12,
   "metadata": {},
   "outputs": [
    {
     "data": {
      "text/plain": [
       "4"
      ]
     },
     "execution_count": 12,
     "metadata": {},
     "output_type": "execute_result"
    }
   ],
   "source": [
    "test(\"sudh\")"
   ]
  },
  {
   "cell_type": "code",
   "execution_count": 13,
   "metadata": {},
   "outputs": [],
   "source": [
    "#2. write a function which  will be able to print an index of list element without using an index function\n",
    "l = [1,2,3,4,\"sudh\",\"ineuron\"]"
   ]
  },
  {
   "cell_type": "code",
   "execution_count": 14,
   "metadata": {},
   "outputs": [],
   "source": [
    "def test1(li):\n",
    "    for i in range(0,test(li)):\n",
    "        print( li[i] , \": \" ,i) \n",
    "        \n",
    "    "
   ]
  },
  {
   "cell_type": "code",
   "execution_count": 15,
   "metadata": {},
   "outputs": [
    {
     "name": "stdout",
     "output_type": "stream",
     "text": [
      "1 :  0\n",
      "2 :  1\n",
      "3 :  2\n",
      "4 :  3\n",
      "sudh :  4\n",
      "ineuron :  5\n"
     ]
    }
   ],
   "source": [
    "test1(l)"
   ]
  },
  {
   "cell_type": "code",
   "execution_count": null,
   "metadata": {},
   "outputs": [],
   "source": [
    "#3. write a function which will be able to print an ip address of your system"
   ]
  },
  {
   "cell_type": "code",
   "execution_count": 18,
   "metadata": {},
   "outputs": [],
   "source": [
    "import socket \n",
    "def test2():\n",
    "    ip= socket.gethostbyname(socket.gethostname())\n",
    "    return ip\n"
   ]
  },
  {
   "cell_type": "code",
   "execution_count": 19,
   "metadata": {},
   "outputs": [
    {
     "data": {
      "text/plain": [
       "'172.18.0.26'"
      ]
     },
     "execution_count": 19,
     "metadata": {},
     "output_type": "execute_result"
    }
   ],
   "source": [
    "test2()"
   ]
  },
  {
   "cell_type": "code",
   "execution_count": null,
   "metadata": {},
   "outputs": [],
   "source": [
    "#4. write a function which will shutdown your system\n",
    "import os\n",
    "os.system(\"shutdown /r /t 4\")\n",
    "\n",
    "# /s - shutdown\n",
    "# /r - restart \n",
    "# /t 1 - timer "
   ]
  },
  {
   "cell_type": "code",
   "execution_count": 20,
   "metadata": {},
   "outputs": [],
   "source": [
    "#5. write a function which will take input as a list with any kind of numeric value and give an out as a multiplication of \n",
    "#all the numeric data l = [3.5, 6.56, 4,5,\"sudh\" , \"ineuron\" , 'fsda bootcamp 2.0']"
   ]
  },
  {
   "cell_type": "code",
   "execution_count": 21,
   "metadata": {},
   "outputs": [],
   "source": [
    "l = [3.5, 6.56, 4,5,\"sudh\" , \"ineuron\" , 'fsda bootcamp 2.0']\n",
    "def test3(l):\n",
    "    mul = 1 \n",
    "    for i in l :\n",
    "        if type(i) == int or type(i) == float : \n",
    "            mul = mul *i\n",
    "    return mul\n",
    "    "
   ]
  },
  {
   "cell_type": "code",
   "execution_count": 22,
   "metadata": {},
   "outputs": [
    {
     "data": {
      "text/plain": [
       "459.19999999999993"
      ]
     },
     "execution_count": 22,
     "metadata": {},
     "output_type": "execute_result"
    }
   ],
   "source": [
    "test3(l)"
   ]
  },
  {
   "cell_type": "code",
   "execution_count": null,
   "metadata": {},
   "outputs": [],
   "source": [
    "#6. write a function which will be able to read all the mails "
   ]
  },
  {
   "cell_type": "code",
   "execution_count": 29,
   "metadata": {},
   "outputs": [
    {
     "name": "stdout",
     "output_type": "stream",
     "text": [
      "b'[ALERT] Too many simultaneous connections. (Failure)'\n"
     ]
    },
    {
     "name": "stderr",
     "output_type": "stream",
     "text": [
      "Traceback (most recent call last):\n",
      "  File \"/tmp/ipykernel_181/2631600399.py\", line 21, in read_email_from_gmail\n",
      "    mail.login(FROM_EMAIL,FROM_PWD)\n",
      "  File \"/opt/conda/lib/python3.10/imaplib.py\", line 612, in login\n",
      "    raise self.error(dat[-1])\n",
      "imaplib.IMAP4.error: b'[ALERT] Too many simultaneous connections. (Failure)'\n"
     ]
    }
   ],
   "source": [
    "import smtplib\n",
    "import time\n",
    "import imaplib\n",
    "import email\n",
    "import traceback \n",
    "ORG_EMAIL = \"@gmail.com\" \n",
    "FROM_EMAIL = 'sskumar9876@gmail.com'\n",
    "FROM_PWD = 'rlplfdcsoiqruagn'\n",
    "SMTP_SERVER = \"imap.gmail.com\" \n",
    "SMTP_PORT = 993\n",
    "imaplib._MAXLINE = 400000000\n",
    "\n",
    "def read_email_from_gmail():\n",
    "    try:\n",
    "        mail = imaplib.IMAP4_SSL(SMTP_SERVER)\n",
    "        mail.login(FROM_EMAIL,FROM_PWD)\n",
    "        mail.select('inbox')\n",
    "\n",
    "        data = mail.search(None, 'ALL')\n",
    "        mail_ids = data[1]\n",
    "        id_list = mail_ids[0].split()   \n",
    "        first_email_id = int(id_list[0])\n",
    "        latest_email_id = int(id_list[-1])\n",
    "\n",
    "        for i in range(latest_email_id,first_email_id, -1):\n",
    "            data = mail.fetch(str(i), '(RFC822)' )\n",
    "            for response_part in data:\n",
    "                arr = response_part[0]\n",
    "                if isinstance(arr, tuple):\n",
    "                    msg = email.message_from_string(str(arr[1],'utf-8'))\n",
    "                    email_subject = msg['subject']\n",
    "                    email_from = msg['from']\n",
    "                    print('From : ' + email_from + '\\n')\n",
    "                    print('Subject : ' + email_subject + '\\n')\n",
    "\n",
    "    except Exception as e:\n",
    "        traceback.print_exc() \n",
    "        print(str(e))\n",
    "\n",
    "read_email_from_gmail()"
   ]
  },
  {
   "cell_type": "code",
   "execution_count": 23,
   "metadata": {},
   "outputs": [],
   "source": [
    "#7 . write a function which will be able to send a mail to anyone "
   ]
  },
  {
   "cell_type": "code",
   "execution_count": 26,
   "metadata": {},
   "outputs": [],
   "source": [
    "import smtplib , ssl\n",
    "port = 465  # For SSL\n",
    "smtp_server = \"smtp.gmail.com\"\n",
    "sender_email = \"sskumar9876@gmail.com\"  # Enter your address\n",
    "receiver_email = \"sudhanshu@ineuron.ai\"  # Enter receiver address\n",
    "password = 'rlplfdcsoiqruagn'\n",
    "message = \"\"\"this is my message from python code in my live class\"\"\"\n",
    "\n",
    "context = ssl.create_default_context()\n",
    "with smtplib.SMTP_SSL(smtp_server, port, context=context) as server:\n",
    "    server.login(sender_email, password)\n",
    "    server.sendmail(sender_email, receiver_email, message)"
   ]
  },
  {
   "cell_type": "code",
   "execution_count": null,
   "metadata": {},
   "outputs": [],
   "source": [
    "#8. write a function which will be able to read a doc/word file from your system"
   ]
  },
  {
   "cell_type": "code",
   "execution_count": 32,
   "metadata": {},
   "outputs": [],
   "source": [
    "import docx2txt"
   ]
  },
  {
   "cell_type": "code",
   "execution_count": 31,
   "metadata": {},
   "outputs": [
    {
     "name": "stdout",
     "output_type": "stream",
     "text": [
      "Collecting docx2txt\n",
      "  Downloading docx2txt-0.8.tar.gz (2.8 kB)\n",
      "  Preparing metadata (setup.py) ... \u001b[?25ldone\n",
      "\u001b[?25hBuilding wheels for collected packages: docx2txt\n",
      "  Building wheel for docx2txt (setup.py) ... \u001b[?25ldone\n",
      "\u001b[?25h  Created wheel for docx2txt: filename=docx2txt-0.8-py3-none-any.whl size=3960 sha256=327337abb32d8879e1d022ae71868bb0d876d3d9640e6a4785a6713897184010\n",
      "  Stored in directory: /home/jovyan/.cache/pip/wheels/3c/78/a3/ef70996aa66e38229494dbd84cd747e2e0668f1940bf4a7de8\n",
      "Successfully built docx2txt\n",
      "Installing collected packages: docx2txt\n",
      "Successfully installed docx2txt-0.8\n",
      "Note: you may need to restart the kernel to use updated packages.\n"
     ]
    }
   ],
   "source": [
    "!pip install docx2txt"
   ]
  },
  {
   "cell_type": "code",
   "execution_count": 34,
   "metadata": {},
   "outputs": [
    {
     "name": "stdout",
     "output_type": "stream",
     "text": [
      "import smtplib , ssl\n",
      "\n",
      "port = 465  # For SSL\n",
      "\n",
      "smtp_server = \"smtp.gmail.com\"\n",
      "\n",
      "sender_email = \"sskumar9876@gmail.com\"  # Enter your address\n",
      "\n",
      "receiver_email = \"sudhanshu@ineuron.ai\"  # Enter receiver address\n",
      "\n",
      "password = 'rlplfdcsoiqruagn'\n",
      "\n",
      "message = \"\"\"this is my message from python code in my live class\"\"\"\n",
      "\n",
      "\n",
      "\n",
      "context = ssl.create_default_context()\n",
      "\n",
      "with smtplib.SMTP_SSL(smtp_server, port, context=context) as server:\n",
      "\n",
      "    server.login(sender_email, password)\n",
      "\n",
      "    server.sendmail(sender_email, receiver_email, message)\n",
      "\n",
      "\n",
      "\n",
      "import smtplib\n",
      "\n",
      "import time\n",
      "\n",
      "import imaplib\n",
      "\n",
      "import email\n",
      "\n",
      "import traceback \n",
      "\n",
      "ORG_EMAIL = \"@gmail.com\" \n",
      "\n",
      "FROM_EMAIL = 'sskumar9876@gmail.com'\n",
      "\n",
      "FROM_PWD = 'rlplfdcsoiqruagn'\n",
      "\n",
      "SMTP_SERVER = \"imap.gmail.com\" \n",
      "\n",
      "SMTP_PORT = 993\n",
      "\n",
      "imaplib._MAXLINE = 400000000\n",
      "\n",
      "\n",
      "\n",
      "def read_email_from_gmail():\n",
      "\n",
      "    try:\n",
      "\n",
      "        mail = imaplib.IMAP4_SSL(SMTP_SERVER)\n",
      "\n",
      "        mail.login(FROM_EMAIL,FROM_PWD)\n",
      "\n",
      "        mail.select('inbox')\n",
      "\n",
      "\n",
      "\n",
      "        data = mail.search(None, 'ALL')\n",
      "\n",
      "        mail_ids = data[1]\n",
      "\n",
      "        id_list = mail_ids[0].split()   \n",
      "\n",
      "        first_email_id = int(id_list[0])\n",
      "\n",
      "        latest_email_id = int(id_list[-1])\n",
      "\n",
      "\n",
      "\n",
      "        for i in range(latest_email_id,first_email_id, -1):\n",
      "\n",
      "            data = mail.fetch(str(i), '(RFC822)' )\n",
      "\n",
      "            for response_part in data:\n",
      "\n",
      "                arr = response_part[0]\n",
      "\n",
      "                if isinstance(arr, tuple):\n",
      "\n",
      "                    msg = email.message_from_string(str(arr[1],'utf-8'))\n",
      "\n",
      "                    email_subject = msg['subject']\n",
      "\n",
      "                    email_from = msg['from']\n",
      "\n",
      "                    print('From : ' + email_from + '\\n')\n",
      "\n",
      "                    print('Subject : ' + email_subject + '\\n')\n",
      "\n",
      "\n",
      "\n",
      "    except Exception as e:\n",
      "\n",
      "        traceback.print_exc() \n",
      "\n",
      "        print(str(e))\n",
      "\n",
      "\n",
      "\n",
      "read_email_from_gmail()\n"
     ]
    }
   ],
   "source": [
    "a = docx2txt.process('testword.docx')\n",
    "print(a)"
   ]
  },
  {
   "cell_type": "code",
   "execution_count": 35,
   "metadata": {},
   "outputs": [
    {
     "name": "stdout",
     "output_type": "stream",
     "text": [
      " testword.docx  'Untitled (1) (1).ipynb'   Untitled.ipynb   \u001b[0m\u001b[01;34mwork\u001b[0m/\n"
     ]
    }
   ],
   "source": [
    "ls"
   ]
  },
  {
   "cell_type": "code",
   "execution_count": null,
   "metadata": {},
   "outputs": [],
   "source": []
  }
 ],
 "metadata": {
  "kernelspec": {
   "display_name": "Python 3",
   "language": "python",
   "name": "python3"
  },
  "language_info": {
   "codemirror_mode": {
    "name": "ipython",
    "version": 3
   },
   "file_extension": ".py",
   "mimetype": "text/x-python",
   "name": "python",
   "nbconvert_exporter": "python",
   "pygments_lexer": "ipython3",
   "version": "3.7.6"
  }
 },
 "nbformat": 4,
 "nbformat_minor": 5
}
