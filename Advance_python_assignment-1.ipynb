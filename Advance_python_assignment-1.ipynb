{
 "cells": [
  {
   "cell_type": "code",
   "execution_count": null,
   "id": "1ee7101c",
   "metadata": {},
   "outputs": [],
   "source": [
    "Q1. What is the purpose of Python OOP?"
   ]
  },
  {
   "cell_type": "markdown",
   "id": "3f1c4179",
   "metadata": {},
   "source": [
    "The purpose of Python's Object-Oriented Programming (OOP) is to provide a programming paradigm that allows for the organization and structuring of code in a way that promotes modularity, reusability, and ease of maintenance. OOP helps in designing software systems by modeling real-world entities as objects that encapsulate data and behavior.\n",
    "Python's OOP helps in creating more maintainable, modular, and reusable code by organizing data and behavior into objects and providing mechanisms for code reuse and abstraction. It promotes good software engineering principles and supports the development of scalable and extensible applications."
   ]
  },
  {
   "cell_type": "code",
   "execution_count": null,
   "id": "c8af9871",
   "metadata": {},
   "outputs": [],
   "source": [
    "Q2. Where does an inheritance search look for an attribute?"
   ]
  },
  {
   "cell_type": "markdown",
   "id": "31cdf725",
   "metadata": {},
   "source": [
    "An inheritance search looks for an attribute first in the instance object, then in the class the instance was created from, then in all higher superclasses, progressing from left to right (by default). The search stops at the first place the attribute is found."
   ]
  },
  {
   "cell_type": "code",
   "execution_count": null,
   "id": "2f6568ac",
   "metadata": {},
   "outputs": [],
   "source": [
    "Q3. How do you distinguish between a class object and an instance object?"
   ]
  },
  {
   "cell_type": "markdown",
   "id": "273d3986",
   "metadata": {},
   "source": [
    "Class objects represent the class itself, while instance objects represent individual instances of the class. Class objects can have class-level attributes and methods that are shared among all instances of the class, while instance objects have their own set of attributes and methods that are independent of other."
   ]
  },
  {
   "cell_type": "code",
   "execution_count": null,
   "id": "3ee62920",
   "metadata": {},
   "outputs": [],
   "source": [
    "Q4. What makes the first argument in a class’s method function special?"
   ]
  },
  {
   "cell_type": "markdown",
   "id": "f714e18c",
   "metadata": {},
   "source": [
    "A class method is similar to an instance method, but it has a class object passed as its first argument. Recall that, when an instance method is called from an instance object, that instance object is automatically passed as the first argument to the method.\n"
   ]
  },
  {
   "cell_type": "code",
   "execution_count": null,
   "id": "07fe6deb",
   "metadata": {},
   "outputs": [],
   "source": [
    "Q5. What is the purpose of the __init__ method?"
   ]
  },
  {
   "cell_type": "markdown",
   "id": "0207622c",
   "metadata": {},
   "source": [
    "All classes have a function called __init__(), which is always executed when the class is being initiated.\n",
    "Use the __init__() function to assign values to object properties, or other operations that are necessary to do when the object is being created:"
   ]
  },
  {
   "cell_type": "code",
   "execution_count": null,
   "id": "43fee9bb",
   "metadata": {},
   "outputs": [],
   "source": [
    "Q6. What is the process for creating a class instance?"
   ]
  },
  {
   "cell_type": "markdown",
   "id": "07392af9",
   "metadata": {},
   "source": [
    "To create instances of a class, you call the class using class name and pass in whatever arguments its __init__ method accepts."
   ]
  },
  {
   "cell_type": "code",
   "execution_count": null,
   "id": "0422af4a",
   "metadata": {},
   "outputs": [],
   "source": [
    "Q7. What is the process for creating a class?"
   ]
  },
  {
   "cell_type": "markdown",
   "id": "905d3d10",
   "metadata": {},
   "source": [
    "In Python, a class can be created by using the keyword class, followed by the class name. The syntax to create a class is given below.\n",
    "Example: class ClassName:    \n",
    "               #statement_suite   \n",
    "            \n",
    "The class also contains a function display()."
   ]
  },
  {
   "cell_type": "code",
   "execution_count": null,
   "id": "90061fec",
   "metadata": {},
   "outputs": [],
   "source": [
    "Q8. How would you define the superclasses of a class?"
   ]
  },
  {
   "cell_type": "markdown",
   "id": "a2d21d78",
   "metadata": {},
   "source": [
    "A class that is derived from another class is called a subclass (also a derived class, extended class, or child class). The class from which the subclass is derived is called a superclass (also a base class or a parent class)."
   ]
  }
 ],
 "metadata": {
  "kernelspec": {
   "display_name": "Python 3 (ipykernel)",
   "language": "python",
   "name": "python3"
  },
  "language_info": {
   "codemirror_mode": {
    "name": "ipython",
    "version": 3
   },
   "file_extension": ".py",
   "mimetype": "text/x-python",
   "name": "python",
   "nbconvert_exporter": "python",
   "pygments_lexer": "ipython3",
   "version": "3.10.9"
  }
 },
 "nbformat": 4,
 "nbformat_minor": 5
}
