{
 "cells": [
  {
   "cell_type": "code",
   "execution_count": null,
   "id": "f407d342",
   "metadata": {},
   "outputs": [],
   "source": [
    "1) . What is the difference between enclosing a list comprehension in square brackets and\n",
    "parentheses?"
   ]
  },
  {
   "cell_type": "code",
   "execution_count": null,
   "id": "2e0c4958",
   "metadata": {},
   "outputs": [],
   "source": [
    "Square brackets are lists while parentheses are tuples.\n",
    "\n",
    "A list is mutable, meaning you can change its content and tupels are immutable.\n",
    "\n",
    "The implication of iterations is Time-consuming for list but tuple is comparatively Faster.\n",
    "\n",
    "Lists consume more memory .Tuple consumes less memory as compared to the list"
   ]
  },
  {
   "cell_type": "code",
   "execution_count": null,
   "id": "9134f2e8",
   "metadata": {},
   "outputs": [],
   "source": [
    "2) What is the relationship between generators and iterators?"
   ]
  },
  {
   "cell_type": "code",
   "execution_count": null,
   "id": "b13aae30",
   "metadata": {},
   "outputs": [],
   "source": [
    "In creating a python generator, we use a function. But in creating an iterator in python, we use the iter() and next() functions.\n",
    "A generator in python makes use of the ‘yield’ keyword. A python iterator doesn’t.\n",
    "To write a python generator, you can either use a Python function or a comprehension. But for an iterator, you must use the iter() and next() functions.\n"
   ]
  },
  {
   "cell_type": "code",
   "execution_count": null,
   "id": "f63f82d6",
   "metadata": {},
   "outputs": [],
   "source": [
    "3) What are the signs that a function is a generator function?"
   ]
  },
  {
   "cell_type": "code",
   "execution_count": null,
   "id": "89a0efaa",
   "metadata": {},
   "outputs": [],
   "source": [
    "A function with yield statements is a generator function.A generator function is a function with one or more yield statements in it.\n",
    "Unlike regular functions, generator functions return generator objects. Meaning, when you call a generator function, it doesn't run the function. Instead, it gives you back a generator object.\n",
    "If you loop over that generator object, it will run the function until a yield statement is reached. At that point the generator object will put itself on pause, and yield the next item. This process will continue over and over until you've consumed all the items within the generator."
   ]
  },
  {
   "cell_type": "code",
   "execution_count": 1,
   "id": "3250a779",
   "metadata": {},
   "outputs": [],
   "source": [
    "def negate_all(iterable):\n",
    "    print(\"Start\")\n",
    "    for n in iterable:\n",
    "        print(\"Negating\", n)\n",
    "        yield -n\n",
    "    print(\"End\")"
   ]
  },
  {
   "cell_type": "code",
   "execution_count": 9,
   "id": "41b3eac6",
   "metadata": {},
   "outputs": [
    {
     "data": {
      "text/plain": [
       "<generator object negate_all at 0x0000017D0DB15460>"
      ]
     },
     "execution_count": 9,
     "metadata": {},
     "output_type": "execute_result"
    }
   ],
   "source": [
    "negatives = negate_all([2, 1, 3])\n",
    "negatives"
   ]
  },
  {
   "cell_type": "code",
   "execution_count": 10,
   "id": "f49c4fab",
   "metadata": {},
   "outputs": [
    {
     "name": "stdout",
     "output_type": "stream",
     "text": [
      "Start\n",
      "Negating 2\n"
     ]
    }
   ],
   "source": [
    "y = next(negatives)"
   ]
  },
  {
   "cell_type": "code",
   "execution_count": null,
   "id": "55d7813b",
   "metadata": {},
   "outputs": [],
   "source": [
    "4) What is the purpose of a yield statement?"
   ]
  },
  {
   "cell_type": "code",
   "execution_count": null,
   "id": "57e0714c",
   "metadata": {},
   "outputs": [],
   "source": [
    " Python generator functions use the yield keyword. Generators’ main benefit is that they automatically create the functions __iter__() and next ().\n",
    "The main difference between them is, the return statement terminates the execution of the function. Whereas, the yield statement only pauses the execution of the function. Another difference is return statements are never executed. whereas, yield statements are executed when the function resumes its execution.\n",
    "Using yield keyword is highly memory efficient, since the execution happens only when the caller iterates over the object.As the variables states are saved, we can pause and resume from the same point, thus saving time."
   ]
  },
  {
   "cell_type": "code",
   "execution_count": null,
   "id": "87a7253d",
   "metadata": {},
   "outputs": [],
   "source": [
    "5) What is the relationship between map calls and list comprehensions? Make a comparison and\n",
    "contrast between the two."
   ]
  },
  {
   "cell_type": "code",
   "execution_count": null,
   "id": "90abe4cd",
   "metadata": {},
   "outputs": [],
   "source": [
    "List comprehension returns a list, whereas the map function returns an object of Iterable. \n",
    "List comprehension execution is faster than that of map function when the formula expression is huge and complex. \n",
    "Map function is faster than list comprehension when the formula is already defined as a function earlier.\n",
    "List comprehension is more concise and easier to read as compared to map.\n",
    "List comprehension allows filtering. In map, we have no such facility. For example, to print all even numbers in range of 100, we can write [n for n in range(100) if n%2 == 0]. There is no alternate for it in map\n",
    "List comprehension are used when a list of results is required as map only returns a map object and does not return any list.\n",
    "List comprehension is faster than map when we need to evaluate expressions that are too long or complicated to express\n",
    "Map is faster in case of calling an already defined function (as no lambda is required)."
   ]
  }
 ],
 "metadata": {
  "kernelspec": {
   "display_name": "Python 3 (ipykernel)",
   "language": "python",
   "name": "python3"
  },
  "language_info": {
   "codemirror_mode": {
    "name": "ipython",
    "version": 3
   },
   "file_extension": ".py",
   "mimetype": "text/x-python",
   "name": "python",
   "nbconvert_exporter": "python",
   "pygments_lexer": "ipython3",
   "version": "3.10.9"
  }
 },
 "nbformat": 4,
 "nbformat_minor": 5
}
