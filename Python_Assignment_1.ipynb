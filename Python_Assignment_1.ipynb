{
 "cells": [
  {
   "cell_type": "code",
   "execution_count": null,
   "metadata": {},
   "outputs": [],
   "source": [
    "1. In the below elements which of them are values or an expression? \n",
    "eg:- values can be integer or string and expressions will be mathematical operators.\n",
    "* \n",
    "'hello'\n",
    "-87.8\n",
    "- \n",
    "/ \n",
    "+\n",
    "6 \n"
   ]
  },
  {
   "cell_type": "code",
   "execution_count": null,
   "metadata": {},
   "outputs": [],
   "source": [
    "* - expressions\n",
    "'hello' - value\n",
    "-87.8 - value\n",
    "- - expressions\n",
    "/ - expressions\n",
    "+ - expressions\n",
    "6 - value"
   ]
  },
  {
   "cell_type": "code",
   "execution_count": null,
   "metadata": {},
   "outputs": [],
   "source": [
    "2. What is the difference between string and variable?"
   ]
  },
  {
   "cell_type": "code",
   "execution_count": null,
   "metadata": {},
   "outputs": [],
   "source": [
    "variable that we can use to store data in a program . We can assign some value to the variable and we can change the value of the variable as per our requirment .\n",
    "\n",
    "string are data so we can use them to assign to variable ."
   ]
  },
  {
   "cell_type": "code",
   "execution_count": null,
   "metadata": {},
   "outputs": [],
   "source": [
    "3. Describe three different data types."
   ]
  },
  {
   "cell_type": "code",
   "execution_count": null,
   "metadata": {},
   "outputs": [],
   "source": [
    "Numeric -  Numeric data type represent the data which has numeric value.\n",
    "           Numeric value can be integer, floating number or even complex numbers. \n",
    "           These values are defined as int, float and complex class in Python.\n",
    "        \n",
    "           a=5\n",
    "           b=5.0\n",
    "           c= 5+4j\n",
    "            \n",
    "String - In Python, Strings are arrays of bytes representing Unicode characters. \n",
    "         A string is a collection of one or more characters put in a single quote, double-quote or triple quote.\n",
    "         It is represented by str class.\n",
    "    \n",
    "         a=\"Mini\"\n",
    "        \n",
    "list - List is ordered collection of data .Data do not need to be same datatype .\n",
    "  \n",
    "        l =['mini',5,6,5.0]\n",
    "        \n"
   ]
  },
  {
   "cell_type": "code",
   "execution_count": null,
   "metadata": {},
   "outputs": [],
   "source": [
    "4. What is an expression made up of? What do all expressions do?"
   ]
  },
  {
   "cell_type": "code",
   "execution_count": null,
   "metadata": {},
   "outputs": [],
   "source": [
    "An expression is a combination of operators and operands that is interpreted to produce some other value.\n",
    "\n",
    "Constant Expressions: These are the expressions that have constant values only.\n",
    "     x=10+3.0\n",
    "     x=13.0\n",
    "    \n",
    "Arithmetic Expressions: An arithmetic expression is a combination of numeric values, operators, and sometimes parenthesis.\n",
    "    x=1\n",
    "    y=2\n",
    "    add = x+y\n",
    "    sub = x-y\n",
    "    mul =x*y\n",
    "    div =x/y\n",
    "    \n",
    "Integral Expressions: These are the kind of expressions that produce only integer results after all computations and type conversions.\n",
    "    a=1\n",
    "    b=10.0\n",
    "    c=a+int(b)\n",
    "    c=11\n",
    "    \n",
    "Floating Expressions: These are the kind of expressions which produce floating point numbers as result after all computations and type conversions.\n",
    "    a=13\n",
    "    b=5\n",
    "    c=a/b\n",
    "    c=2.6\n",
    "    \n",
    "Relational Expressions :In these types of expressions, arithmetic expressions are written on both sides of relational operator (> , < , >= , <=). Those arithmetic expressions are evaluated first, and then compared as per relational operator and produce a boolean output in the end. These expressions are also called Boolean expressions.\n",
    "    \n",
    "    a=21\n",
    "    b=13\n",
    "    c=40\n",
    "    d=37\n",
    "    \n",
    "    p=(a+b) >= (c-d)\n",
    "    p=True\n",
    "    \n",
    "Logical Expressions: These are kinds of expressions that result in either True or False.\n",
    "    \n",
    "    \n",
    "P = (10 == 9)\n",
    "Q = (7 > 5)\n",
    "  \n",
    "R = P and Q\n",
    "S = P or Q\n",
    "T = not P\n",
    "  \n",
    "print(R)\n",
    "print(S)\n",
    "print(T)\n",
    "\n",
    "False\n",
    "True\n",
    "True\n",
    "\n",
    "\n",
    "Bitwise Expressions: These are the kind of expressions in which computations are performed at bit level.\n",
    "a = 12\n",
    "  \n",
    "x = a >> 2\n",
    "y = a << 1\n",
    "  \n",
    "print(x, y)\n",
    "\n",
    "3 24\n",
    "\n",
    "Combinational Expressions: We can also use different types of expressions in a single expression, and that will be termed as combinational expressions.\n",
    "    \n",
    "    \n",
    "a = 16\n",
    "b = 12\n",
    "  \n",
    "c = a + (b >> 1)\n",
    "print(c)\n",
    "\n",
    "22"
   ]
  },
  {
   "cell_type": "code",
   "execution_count": null,
   "metadata": {},
   "outputs": [],
   "source": [
    "5. This assignment statements, like spam = 10. What is the difference between an expression and a statement?"
   ]
  },
  {
   "cell_type": "code",
   "execution_count": null,
   "metadata": {},
   "outputs": [],
   "source": [
    "Statements represent an action or command e.g print statements, assignment statements. \n",
    "Expression is a combination of variables, operations and values that yields a result value.\n",
    "\n",
    "print('mini') - statement\n",
    "\n",
    "c=5*5 - expression"
   ]
  },
  {
   "cell_type": "code",
   "execution_count": null,
   "metadata": {},
   "outputs": [],
   "source": [
    "6. After running the following code, what does the variable bacon contain?\n",
    "bacon = 22\n",
    "bacon + \n"
   ]
  },
  {
   "cell_type": "code",
   "execution_count": 1,
   "metadata": {},
   "outputs": [
    {
     "data": {
      "text/plain": [
       "23"
      ]
     },
     "execution_count": 1,
     "metadata": {},
     "output_type": "execute_result"
    }
   ],
   "source": [
    "bacon contain value 23."
   ]
  },
  {
   "cell_type": "code",
   "execution_count": null,
   "metadata": {},
   "outputs": [],
   "source": [
    "7. What should the values of the following two terms be?\n",
    "'spam' + 'spamspam'\n",
    "'spam' * 3\n"
   ]
  },
  {
   "cell_type": "code",
   "execution_count": 2,
   "metadata": {},
   "outputs": [
    {
     "data": {
      "text/plain": [
       "'spamspamspam'"
      ]
     },
     "execution_count": 2,
     "metadata": {},
     "output_type": "execute_result"
    }
   ],
   "source": [
    "'spam' + 'spamspam'"
   ]
  },
  {
   "cell_type": "code",
   "execution_count": 3,
   "metadata": {},
   "outputs": [
    {
     "data": {
      "text/plain": [
       "'spamspamspam'"
      ]
     },
     "execution_count": 3,
     "metadata": {},
     "output_type": "execute_result"
    }
   ],
   "source": [
    "'spam' * 3"
   ]
  },
  {
   "cell_type": "code",
   "execution_count": null,
   "metadata": {},
   "outputs": [],
   "source": [
    "8. Why is eggs a valid variable name while 100 is invalid?"
   ]
  },
  {
   "cell_type": "code",
   "execution_count": null,
   "metadata": {},
   "outputs": [],
   "source": [
    "A variable name cannot start with a number so 100 is invalid but variable name can start with a letter so eggs is a valid name ."
   ]
  },
  {
   "cell_type": "code",
   "execution_count": null,
   "metadata": {},
   "outputs": [],
   "source": [
    "9. What three functions can be used to get the integer, floating-point number, or string version of a value?"
   ]
  },
  {
   "cell_type": "code",
   "execution_count": null,
   "metadata": {},
   "outputs": [],
   "source": [
    "int(),float() and str() used to to do type casting .\n",
    "x = int(1)   # x will be 1\n",
    "y = int(2.8) # y will be 2\n",
    "z = int(\"3\") # z will be 3\n",
    "\n",
    "x = float(1)     # x will be 1.0\n",
    "y = float(2.8)   # y will be 2.8\n",
    "z = float(\"3\")   # z will be 3.0\n",
    "w = float(\"4.2\") # w will be 4.2\n",
    "\n",
    "x = str(\"s1\") # x will be 's1'\n",
    "y = str(2)    # y will be '2'\n",
    "z = str(3.0)  # z will be '3.0'"
   ]
  },
  {
   "cell_type": "code",
   "execution_count": null,
   "metadata": {},
   "outputs": [],
   "source": [
    "10. Why does this expression cause an error? How can you fix it?\n",
    "'I have eaten ' + 99 + ' burritos.'\n"
   ]
  },
  {
   "cell_type": "code",
   "execution_count": 5,
   "metadata": {},
   "outputs": [
    {
     "data": {
      "text/plain": [
       "\"I have eaten ' + 99 + ' burritos.\""
      ]
     },
     "execution_count": 5,
     "metadata": {},
     "output_type": "execute_result"
    }
   ],
   "source": [
    "\"I have eaten ' + 99 + ' burritos.\" # replace single quote with double quotes ."
   ]
  },
  {
   "cell_type": "code",
   "execution_count": null,
   "metadata": {},
   "outputs": [],
   "source": []
  }
 ],
 "metadata": {
  "kernelspec": {
   "display_name": "Python 3",
   "language": "python",
   "name": "python3"
  },
  "language_info": {
   "codemirror_mode": {
    "name": "ipython",
    "version": 3
   },
   "file_extension": ".py",
   "mimetype": "text/x-python",
   "name": "python",
   "nbconvert_exporter": "python",
   "pygments_lexer": "ipython3",
   "version": "3.7.6"
  }
 },
 "nbformat": 4,
 "nbformat_minor": 4
}
