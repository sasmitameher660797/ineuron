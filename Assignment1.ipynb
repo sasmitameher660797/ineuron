{
 "cells": [
  {
   "cell_type": "markdown",
   "metadata": {},
   "source": [
    "## Assignment 1"
   ]
  },
  {
   "cell_type": "markdown",
   "metadata": {},
   "source": [
    "1. Find out all the types of error that we have encountered in our lecture and why? Also include the examples."
   ]
  },
  {
   "cell_type": "code",
   "execution_count": null,
   "metadata": {},
   "outputs": [],
   "source": [
    "Ans :-\n",
    "\n",
    "TypeError:\n",
    "\n",
    "1.print is a reserved keyward and when we are trying to use reserved keyward as variable and want to use that variable we will encountered this error.\n",
    "\n",
    "eg :\n",
    "    \n",
    "TypeError                                 Traceback (most recent call last)\n",
    "<ipython-input-6-67ee3d3b1c34> in <module>\n",
    "----> 1 print(\"Hi there\")\n",
    "\n",
    "TypeError: 'str' object is not callable\n",
    "    \n",
    "2.year_of_birth variable is string and when we are trying to do arithmatic operation of string and integer datatype we got this error. \n",
    "\n",
    "Name: Sunny\n",
    "place: BLR\n",
    "year_of_birth: 1991\n",
    "---------------------------------------------------------------------------\n",
    "TypeError                                 Traceback (most recent call last)\n",
    "<ipython-input-77-6f0a8cb6799f> in <module>\n",
    "      5 year_of_birth = input(\"year_of_birth: \")\n",
    "      6 \n",
    "----> 7 age = 2022 - year_of_birth\n",
    "      8 \n",
    "      9 print(f\"\"\"\n",
    "\n",
    "TypeError: unsupported operand type(s) for -: 'int' and 'str'\n",
    "\n",
    "\n",
    "ValueError :\n",
    "============\n",
    "\n",
    "1. Here B value is int and but when we are passing float value typeconverion is not possible and throwing this error .\n",
    "\n",
    "A = float(input(\"Enter value of A: \"))\n",
    "B = int(input(\"Enter value of B: \")) # 10.2 is float but converting to int\n",
    "\n",
    "print(f\"Sum of A and B is: {A+B}\")\n",
    "Enter value of A: 10.2\n",
    "Enter value of B: 10.2\n",
    "---------------------------------------------------------------------------\n",
    "ValueError                                Traceback (most recent call last)\n",
    "<ipython-input-81-66a6f430b15b> in <module>\n",
    "      1 A = float(input(\"Enter value of A: \"))\n",
    "----> 2 B = int(input(\"Enter value of B: \"))\n",
    "      3 \n",
    "      4 print(f\"Sum of A and B is: {A+B}\")\n",
    "\n",
    "ValueError: invalid literal for int() with base 10: '10.2'\n",
    "    \n",
    "    \n",
    "2. Here A variable vaue is string but float value when we are trying to convert float value to string getting value error .\n",
    "    \n",
    "A = \"50.22\" # entering float\n",
    "print(f\"data type before: {type(A)}, value of A: {A}\")\n",
    "A = int(A) # trying to convert into integer\n",
    "print(f\"data type after: {type(A)}, value of A: {A}\")\n",
    "    \n",
    "ValueError                                Traceback (most recent call last)\n",
    "<ipython-input-45-44a89d3a265f> in <module>\n",
    "      2 A = \"50.22\" # entering float\n",
    "      3 print(f\"data type before: {type(A)}, value of A: {A}\")\n",
    "----> 4 A = int(A) # trying to convert into integer\n",
    "      5 print(f\"data type after: {type(A)}, value of A: {A}\")\n",
    "\n",
    "ValueError: invalid literal for int() with base 10: '50.22'\n",
    "    \n",
    "3. When we are passing empty string to variable and try to type conversion for the variable used to get this error.\n",
    "    \n",
    "A = \"\"\n",
    "print(f\"data type before: {type(A)}, value of A: {A}\")\n",
    "A = int(A)\n",
    "print(f\"data type after: {type(A)}, value of A: {A}\")\n",
    "    \n",
    "ValueError                                Traceback (most recent call last)\n",
    "<ipython-input-57-a8248b2f88e9> in <module>\n",
    "      2 A = \"\"\n",
    "      3 print(f\"data type before: {type(A)}, value of A: {A}\")\n",
    "----> 4 A = int(A)\n",
    "      5 print(f\"data type after: {type(A)}, value of A: {A}\")\n",
    "\n",
    "ValueError: invalid literal for int() with base 10: ''"
   ]
  },
  {
   "cell_type": "markdown",
   "metadata": {},
   "source": [
    "2. Take input A and B and print their sum, mul, div, square of the nos."
   ]
  },
  {
   "cell_type": "code",
   "execution_count": 17,
   "metadata": {},
   "outputs": [
    {
     "name": "stdout",
     "output_type": "stream",
     "text": [
      "Enter A value : 2\n",
      "Enter B value : 3\n",
      "Sum of A and B = 5\n",
      "mul of A and B = 6\n",
      "div of A and B = 0.6666666666666666\n",
      "sqr of A = 4 \n",
      "sqr of B = 9\n"
     ]
    }
   ],
   "source": [
    "A = int(input(\"Enter A value : \"))\n",
    "B = int(input(\"Enter B value : \"))\n",
    "\n",
    "print(f\"\"\"Sum of A and B = {A+B}\n",
    "mul of A and B = {A*B}\n",
    "div of A and B = {A/B}\n",
    "sqr of A = {A**2} \n",
    "sqr of B = {B**2}\"\"\")\n"
   ]
  },
  {
   "cell_type": "markdown",
   "metadata": {},
   "source": [
    "3. How many reserve keywords are there in python and why we should not use them as a variable name."
   ]
  },
  {
   "cell_type": "code",
   "execution_count": null,
   "metadata": {},
   "outputs": [],
   "source": [
    "31 Reserve keywords are there in python .\n",
    "The following identifiers are used as reserved words\n",
    "\n",
    "and       del       from      not       while    \n",
    "as        elif      global    or        with     \n",
    "assert    else      if        pass      yield    \n",
    "break     except    import    print              \n",
    "class     exec      in        raise              \n",
    "continue  finally   is        return             \n",
    "def       for       lambda    try\n",
    "\n",
    "These are the build in functions  to used for the specific purpose if will use these to create variable then it will create ambiguity and while running the programm we will get runtime error."
   ]
  },
  {
   "cell_type": "markdown",
   "metadata": {},
   "source": [
    "4. Create email ids with the user inputs. in the following format - \n",
    "lastname.firstname@gmail.com"
   ]
  },
  {
   "cell_type": "code",
   "execution_count": 19,
   "metadata": {},
   "outputs": [
    {
     "name": "stdout",
     "output_type": "stream",
     "text": [
      "Please enter your firstname : sasmita\n",
      "Please enter your lastname : meher\n",
      "Your Emailid is : meher.sasmita@gmail.com\n"
     ]
    }
   ],
   "source": [
    "firstname = input(\"Please enter your firstname : \")\n",
    "lastname = input(\"Please enter your lastname : \")\n",
    "\n",
    "print(f\"Your Emailid is : {lastname}.{firstname}@gmail.com\")"
   ]
  },
  {
   "cell_type": "markdown",
   "metadata": {},
   "source": [
    "5. Try to print the following lines - \n",
    "  - Hi I'm Sunny\n",
    "  - My address is 22\\3 \n",
    "  - I earn 20$ daily."
   ]
  },
  {
   "cell_type": "code",
   "execution_count": 30,
   "metadata": {},
   "outputs": [
    {
     "name": "stdout",
     "output_type": "stream",
     "text": [
      " Hi I'm Sunny\n",
      "My address is 2/3\n",
      "I earn 20$ daily.\n"
     ]
    }
   ],
   "source": [
    "ads = \"2/3\"\n",
    "print(f\"\"\" Hi I'm Sunny\n",
    "My address is {ads}\n",
    "I earn 20$ daily.\"\"\")"
   ]
  },
  {
   "cell_type": "markdown",
   "metadata": {},
   "source": [
    "6. Take user input (name, address, date of birth etc) to fill a form for your college and print their email IDs"
   ]
  },
  {
   "cell_type": "code",
   "execution_count": 36,
   "metadata": {},
   "outputs": [
    {
     "name": "stdout",
     "output_type": "stream",
     "text": [
      "Enter your name : sasmita\n",
      "Enter your address : blr\n",
      "Enter your DOB: 03-03-1992\n",
      "Name : sasmita\n",
      "Address : blr\n",
      "DOB : 03-03-1992\n",
      "Emailid : sasmita@gmail.com\n"
     ]
    }
   ],
   "source": [
    "name = input(\"Enter your name : \")\n",
    "address = input(\"Enter your address : \")\n",
    "date_of_birth = input(\"Enter your DOB: \")\n",
    "\n",
    "print(f\"\"\"Name : {name}\n",
    "Address : {address}\n",
    "DOB : {date_of_birth}\n",
    "Emailid : {name}@gmail.com\"\"\")"
   ]
  },
  {
   "cell_type": "markdown",
   "metadata": {},
   "source": [
    "7. Convert the following - \n",
    "  - \"22.4\" into integerg\n",
    "  - \"22\" into complex no."
   ]
  },
  {
   "cell_type": "code",
   "execution_count": 42,
   "metadata": {},
   "outputs": [
    {
     "name": "stdout",
     "output_type": "stream",
     "text": [
      "22\n"
     ]
    }
   ],
   "source": [
    "value = \"22.4\"\n",
    "print(int(float(value)))"
   ]
  },
  {
   "cell_type": "code",
   "execution_count": 43,
   "metadata": {},
   "outputs": [
    {
     "name": "stdout",
     "output_type": "stream",
     "text": [
      "(22+0j)\n"
     ]
    }
   ],
   "source": [
    "val1 =\"22\"\n",
    "print(complex(val1))"
   ]
  },
  {
   "cell_type": "code",
   "execution_count": 49,
   "metadata": {},
   "outputs": [
    {
     "data": {
      "text/plain": [
       "22.0"
      ]
     },
     "execution_count": 49,
     "metadata": {},
     "output_type": "execute_result"
    }
   ],
   "source": [
    "val1= complex(val1)\n",
    "val1.real\n"
   ]
  },
  {
   "cell_type": "code",
   "execution_count": 50,
   "metadata": {},
   "outputs": [
    {
     "data": {
      "text/plain": [
       "0.0"
      ]
     },
     "execution_count": 50,
     "metadata": {},
     "output_type": "execute_result"
    }
   ],
   "source": [
    "val1.imag"
   ]
  },
  {
   "cell_type": "code",
   "execution_count": null,
   "metadata": {},
   "outputs": [],
   "source": []
  }
 ],
 "metadata": {
  "kernelspec": {
   "display_name": "Python 3",
   "language": "python",
   "name": "python3"
  },
  "language_info": {
   "codemirror_mode": {
    "name": "ipython",
    "version": 3
   },
   "file_extension": ".py",
   "mimetype": "text/x-python",
   "name": "python",
   "nbconvert_exporter": "python",
   "pygments_lexer": "ipython3",
   "version": "3.7.6"
  }
 },
 "nbformat": 4,
 "nbformat_minor": 4
}
